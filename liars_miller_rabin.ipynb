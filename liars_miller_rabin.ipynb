{
  "nbformat": 4,
  "nbformat_minor": 0,
  "metadata": {
    "colab": {
      "name": "liars_miller_rabin.ipynb",
      "provenance": [],
      "collapsed_sections": [],
      "toc_visible": true,
      "authorship_tag": "ABX9TyO2UjUovEtyKKZOqZerFkHF",
      "include_colab_link": true
    },
    "kernelspec": {
      "name": "python3",
      "display_name": "Python 3"
    },
    "language_info": {
      "name": "python"
    }
  },
  "cells": [
    {
      "cell_type": "markdown",
      "metadata": {
        "id": "view-in-github",
        "colab_type": "text"
      },
      "source": [
        "<a href=\"https://colab.research.google.com/github/y-arjun-y/liars-miller-rabin/blob/main/liars_miller_rabin.ipynb\" target=\"_parent\"><img src=\"https://colab.research.google.com/assets/colab-badge.svg\" alt=\"Open In Colab\"/></a>"
      ]
    },
    {
      "cell_type": "markdown",
      "source": [
        "# Liars in the Miller-Rabin Primality Test by Arjun Yadav\n",
        "## All code is available on [GitHub](https://github.com/y-arjun-y/liars-miller-rabin)."
      ],
      "metadata": {
        "id": "PAN0FyZRIRaI"
      }
    },
    {
      "cell_type": "markdown",
      "source": [
        "## Implementation of the Miller-Rabin primality test in Python\n",
        "### Credit goes to [Rosetta Code](https://rosettacode.org/wiki/Miller%E2%80%93Rabin_primality_test#Python)."
      ],
      "metadata": {
        "id": "F5Va_xI6IglN"
      }
    },
    {
      "cell_type": "code",
      "execution_count": null,
      "metadata": {
        "id": "teiA7Vg6o4vl"
      },
      "outputs": [],
      "source": [
        "'''\n",
        "Implementation of the Miller-Rabin primality test in Python. \n",
        "Function by https://rosettacode.org/wiki/Miller%E2%80%93Rabin_primality_test#Python.\n",
        "Variables and formula is based on https://en.wikipedia.org/wiki/Miller%E2%80%93Rabin_primality_test.\n",
        "A return value of False means n in not prime.\n",
        "A return value of True means n is very likely to be a prime.\n",
        "'''\n",
        "\n",
        "def miller_rabin(n, a):\n",
        "    # checking if it is an integer\n",
        "    if n != int(n):\n",
        "        return False\n",
        "\n",
        "    n = int(n)\n",
        "\n",
        "    # base cases\n",
        "    if n == 0 or n == 1 or n == 4 or n == 6 or n == 8 or n == 9:\n",
        "        return False\n",
        "\n",
        "    if n == 2 or n == 3 or n == 5 or n == 7:\n",
        "        return True\n",
        "\n",
        "    if n % 2 == 0:\n",
        "        return False\n",
        "\n",
        "    # assigning variables\n",
        "    s = 0\n",
        "    d = n - 1\n",
        "\n",
        "    while d % 2 == 0:\n",
        "        d >>= 1\n",
        "        s += 1\n",
        "\n",
        "    # trial run\n",
        "    def trial_composite(a):\n",
        "        if pow(a, d, n) == 1:\n",
        "            return False\n",
        "\n",
        "        for i in range(s):\n",
        "            if pow(a, 2**i * d, n) == n - 1:\n",
        "                return False\n",
        "        return True\n",
        "\n",
        "    # number of trials, directly proportional to time and accuracy.\n",
        "    num_trials = 10\n",
        "\n",
        "    # run\n",
        "    for _ in range(num_trials):\n",
        "        if trial_composite(a):\n",
        "            return False\n",
        "\n",
        "    return True"
      ]
    },
    {
      "cell_type": "markdown",
      "source": [
        "## Length of probable primes function (using the Miller-Rabin primality test)"
      ],
      "metadata": {
        "id": "SmQHE6_hJAh7"
      }
    },
    {
      "cell_type": "code",
      "source": [
        "'''\n",
        "Returns the length of prime numbers of a given range.\n",
        "'''\n",
        "\n",
        "def len_probable_prime(int, a):\n",
        "    results = []\n",
        "\n",
        "    # main loop\n",
        "    for i in range(int + 1):\n",
        "        if miller_rabin(i, a) == True:\n",
        "            results.append(miller_rabin(i, a))\n",
        "\n",
        "    return len(results)"
      ],
      "metadata": {
        "id": "tshVSj6ho8e6"
      },
      "execution_count": null,
      "outputs": []
    },
    {
      "cell_type": "markdown",
      "source": [
        "## Actual number of primes between two numbers\n",
        "\n"
      ],
      "metadata": {
        "id": "TGNHlKGxdSUc"
      }
    },
    {
      "cell_type": "code",
      "source": [
        "'''\n",
        "Returns the actual number of primes between two numbers.\n",
        "Used in the final worst witness cell/file. Doesn't use the Miller-Rabin primality test.\n",
        "Credit: https://www.programiz.com/python-programming/examples/prime-number-intervals\n",
        "'''\n",
        "\n",
        "def actual_len_primes(lower, upper):\n",
        "  for num in range(lower, upper + 1):\n",
        "    if num > 1:\n",
        "        for i in range(2, num):\n",
        "            if (num % i) == 0:\n",
        "                break\n",
        "        else:\n",
        "            return num"
      ],
      "metadata": {
        "id": "ngNzeV8Jdb70"
      },
      "execution_count": null,
      "outputs": []
    },
    {
      "cell_type": "markdown",
      "source": [
        "## Non-probablistic primality test"
      ],
      "metadata": {
        "id": "WjhyT_bpp8_r"
      }
    },
    {
      "cell_type": "code",
      "source": [
        "'''\n",
        "Returns whether a number is prime (true) or not (false).\n",
        "Credit: https://djangocentral.com/python-program-to-check-whether-the-number-is-prime-or-not/\n",
        "'''\n",
        "\n",
        "def actual_prime(n):\n",
        "  if n > 1:\n",
        "    for i in range(2, int(n/2) + 1):\n",
        "      if (n % i == 0):\n",
        "        return True\n",
        "      else:\n",
        "        return False\n",
        "  else:\n",
        "    return False"
      ],
      "metadata": {
        "id": "WFk5p2JvqEQf"
      },
      "execution_count": null,
      "outputs": []
    },
    {
      "cell_type": "markdown",
      "source": [
        "## Finding worst witness in a certain range by finding difference between actual number of primes"
      ],
      "metadata": {
        "id": "-DRyX633JDgJ"
      }
    },
    {
      "cell_type": "code",
      "source": [
        "# imports\n",
        "from tqdm import tqdm\n",
        "\n",
        "# constants\n",
        "DEFENDANT = 100 # number we're using to test our function\n",
        "WITNESS_RANGE = 10000 # range till where we want to find the worst witness \n",
        "ACTUAL_LEN_PRIMES = actual_len_primes(0, WITNESS_RANGE)\n",
        "\n",
        "# variables\n",
        "results = {} # dictionary containing witness and their difference\n",
        "\n",
        "# subtraction loop\n",
        "for i in tqdm(range(WITNESS_RANGE)):\n",
        "  results[i] = ACTUAL_LEN_PRIMES - len_probable_prime(DEFENDANT, i)\n",
        "\n",
        "# finding worst key\n",
        "print(list(results.keys())[list(results.values()).index(sorted(set(results.values()))[1])])"
      ],
      "metadata": {
        "colab": {
          "base_uri": "https://localhost:8080/"
        },
        "id": "npHBx9ozo-2-",
        "outputId": "607b143f-f1d5-4402-aac8-0ec6f2ed289d"
      },
      "execution_count": null,
      "outputs": [
        {
          "output_type": "stream",
          "name": "stderr",
          "text": [
            "100%|██████████| 10000/10000 [00:14<00:00, 695.27it/s]"
          ]
        },
        {
          "output_type": "stream",
          "name": "stdout",
          "text": [
            "3464\n"
          ]
        },
        {
          "output_type": "stream",
          "name": "stderr",
          "text": [
            "\n"
          ]
        }
      ]
    },
    {
      "cell_type": "markdown",
      "source": [
        "## Finding worst witness by number of lies"
      ],
      "metadata": {
        "id": "DKu_c_rKmcRu"
      }
    },
    {
      "cell_type": "code",
      "source": [
        "# constants\n",
        "DEFENDANT_RANGE = 50 # range of defendants we want to have heard\n",
        "DEFENDANTS = [i for i in range(DEFENDANT_RANGE + 1)]\n",
        "WITNESS_RANGE = 50 # range of witnesses we want to call\n",
        "\n",
        "# variables\n",
        "count = 0\n",
        "index = DEFENDANT_RANGE - 1\n",
        "results = {} # dictionary containing witness and number of lies\n",
        "\n",
        "# liar loop\n",
        "while index != -1:\n",
        "  for i in range(WITNESS_RANGE):\n",
        "    if miller_rabin(i, DEFENDANTS[index]) != actual_prime(i):\n",
        "      count += 1\n",
        "      results[i] = count\n",
        "  index -= 1\n",
        "\n",
        "print(list(results.keys())[list(results.values()).index(sorted(set(results.values()))[0])])\n",
        "\n",
        "# methadology: iterate through the defendants and test whether or not it is\n",
        "# prime or composite using a witness from the witness range, and if it is true,\n",
        "# do nothing, else if it lies add it to a counter and append it to the\n",
        "# results dictionary and select the max."
      ],
      "metadata": {
        "colab": {
          "base_uri": "https://localhost:8080/"
        },
        "id": "_FVoAX0brUsH",
        "outputId": "275e8716-a2c1-4cee-cd19-90db3c800513"
      },
      "execution_count": null,
      "outputs": [
        {
          "output_type": "stream",
          "name": "stdout",
          "text": [
            "11\n"
          ]
        }
      ]
    },
    {
      "cell_type": "markdown",
      "source": [
        "# Other functions created during research\n"
      ],
      "metadata": {
        "id": "DrGaJb1WJH8c"
      }
    },
    {
      "cell_type": "markdown",
      "source": [
        "## Length of composites function"
      ],
      "metadata": {
        "id": "QZ5rJVnMMhm3"
      }
    },
    {
      "cell_type": "code",
      "source": [
        "'''\n",
        "Returns the length of composite numbers of a given range.\n",
        "'''\n",
        "\n",
        "def len_composite(int, a):\n",
        "    results = []\n",
        "\n",
        "    for i in range(int + 1):\n",
        "        if miller_rabin(i, a) == False:\n",
        "            results.append(miller_rabin(i, a))\n",
        "\n",
        "    return len(results)"
      ],
      "metadata": {
        "id": "ato_WgnVMqLR"
      },
      "execution_count": null,
      "outputs": []
    },
    {
      "cell_type": "markdown",
      "source": [
        "## Composites function"
      ],
      "metadata": {
        "id": "4lTQnazNMmwP"
      }
    },
    {
      "cell_type": "code",
      "source": [
        "'''\n",
        "Returns the composite numbers of a given range.\n",
        "'''\n",
        "\n",
        "def composite(int, a):\n",
        "    results = []\n",
        "\n",
        "    for i in range(int + 1):\n",
        "        if miller_rabin(i, a) == False:\n",
        "            results.append(i)\n",
        "\n",
        "    return results"
      ],
      "metadata": {
        "id": "ztEp3NilfIAI"
      },
      "execution_count": null,
      "outputs": []
    },
    {
      "cell_type": "markdown",
      "source": [
        "## Primes function"
      ],
      "metadata": {
        "id": "8NBjO8KrMoqY"
      }
    },
    {
      "cell_type": "code",
      "source": [
        "'''\n",
        "Returns the probable prime numbers of a given range.\n",
        "'''\n",
        "\n",
        "def probable_primes(int, a):\n",
        "    results = []\n",
        "\n",
        "    for i in range(int + 1):\n",
        "        if miller_rabin(i, a) == True:\n",
        "            results.append(i)\n",
        "\n",
        "    return results"
      ],
      "metadata": {
        "id": "-bymKJpzfCop"
      },
      "execution_count": null,
      "outputs": []
    },
    {
      "cell_type": "markdown",
      "source": [
        "## Finding excellent, okay and false witnesses"
      ],
      "metadata": {
        "id": "1ExsK93kJTDG"
      }
    },
    {
      "cell_type": "code",
      "source": [
        "# imports\n",
        "from tqdm import tqdm\n",
        "\n",
        "# constants\n",
        "DEFENDANT = 100\n",
        "WITNESS_RANGE = 100\n",
        "ACTUAL_LEN_PRIMES = actual_len_primes(0, WITNESS_RANGE)\n",
        "\n",
        "# seconday variables \n",
        "excellent_witnesses = []  # = ACTUAL_LEN_PRIMES\n",
        "okay_witnesses = []  # ±5 ACTUAL_LEN_PRIMES\n",
        "false_witnessses = []  # != ACTUAL_LEN_PRIMES\n",
        "\n",
        "# secondary loop\n",
        "for i in tqdm(range(WITNESS_RANGE)):\n",
        "    if len_probable_prime(DEFENDANT, i) == ACTUAL_LEN_PRIMES:\n",
        "        excellent_witnesses.append(i)\n",
        "    elif len_probable_prime(DEFENDANT, i) - ACTUAL_LEN_PRIMES <= 5:\n",
        "        okay_witnesses.append(i)\n",
        "    elif len_probable_prime(DEFENDANT, i) != ACTUAL_LEN_PRIMES:\n",
        "        false_witnessses.append(i)\n",
        "\n",
        "print(excellent_witnesses)"
      ],
      "metadata": {
        "colab": {
          "base_uri": "https://localhost:8080/"
        },
        "id": "dQ2vWiOYJqWw",
        "outputId": "db0c4515-dd89-4c27-dbf4-88a93fe522c9"
      },
      "execution_count": null,
      "outputs": [
        {
          "output_type": "stream",
          "name": "stderr",
          "text": [
            "100%|██████████| 100/100 [00:00<00:00, 241.92it/s]"
          ]
        },
        {
          "output_type": "stream",
          "name": "stdout",
          "text": [
            "[]\n"
          ]
        },
        {
          "output_type": "stream",
          "name": "stderr",
          "text": [
            "\n"
          ]
        }
      ]
    }
  ]
}