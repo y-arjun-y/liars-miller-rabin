{
  "nbformat": 4,
  "nbformat_minor": 0,
  "metadata": {
    "colab": {
      "name": "liars_miller_rabin.ipynb",
      "provenance": [],
      "collapsed_sections": [],
      "toc_visible": true,
      "authorship_tag": "ABX9TyPprEzzaGQf0tkYjYuaMBsJ",
      "include_colab_link": true
    },
    "kernelspec": {
      "name": "python3",
      "display_name": "Python 3"
    },
    "language_info": {
      "name": "python"
    }
  },
  "cells": [
    {
      "cell_type": "markdown",
      "metadata": {
        "id": "view-in-github",
        "colab_type": "text"
      },
      "source": [
        "<a href=\"https://colab.research.google.com/github/y-arjun-y/liars-miller-rabin/blob/main/liars_miller_rabin.ipynb\" target=\"_parent\"><img src=\"https://colab.research.google.com/assets/colab-badge.svg\" alt=\"Open In Colab\"/></a>"
      ]
    },
    {
      "cell_type": "markdown",
      "source": [
        "# Liars in the Miller-Rabin Primality Test by Arjun Yadav\n",
        "## All code is available on [GitHub](https://github.com/y-arjun-y/liars-miller-rabin)."
      ],
      "metadata": {
        "id": "PAN0FyZRIRaI"
      }
    },
    {
      "cell_type": "markdown",
      "source": [
        "## Implementation of the Miller-Rabin primality test in Python"
      ],
      "metadata": {
        "id": "F5Va_xI6IglN"
      }
    },
    {
      "cell_type": "code",
      "execution_count": 1,
      "metadata": {
        "id": "teiA7Vg6o4vl"
      },
      "outputs": [],
      "source": [
        "'''\n",
        "Function by https://rosettacode.org/wiki/Miller%E2%80%93Rabin_primality_test#Python with slight changes to support a custom witness and explanation of the code. \n",
        "Function and its formula is based on https://en.wikipedia.org/wiki/Miller%E2%80%93Rabin_primality_test.\n",
        "A return value of False means n in not prime (i.e. composite).\n",
        "A return value of True means n is very likely to be a prime (depending on the number of rounds).\n",
        "'''\n",
        "\n",
        "def miller_rabin_base(n, a):\n",
        "  # checking if it is an integer\n",
        "    if n != int(n):\n",
        "        return False\n",
        "\n",
        "    n = int(n)\n",
        "\n",
        "    # base cases\n",
        "    if n == 0 or n == 1 or n == 4 or n == 6 or n == 8 or n == 9:\n",
        "        return False\n",
        "\n",
        "    if n == 2 or n == 3 or n == 5 or n == 7:\n",
        "        return True\n",
        "\n",
        "    if n % 2 == 0:\n",
        "        return False\n",
        "\n",
        "    # assigning variables\n",
        "    s = 0\n",
        "    d = n - 1\n",
        "\n",
        "    while d % 2 == 0:\n",
        "        d >>= 1\n",
        "        s += 1\n",
        "    \n",
        "    assert(2**s * d == n - 1)\n",
        "\n",
        "    # trial run\n",
        "    def trial_composite(a):\n",
        "        if pow(a, d, n) == 1:\n",
        "            return False\n",
        "\n",
        "        for i in range(s):\n",
        "            if pow(a, 2**i * d, n) == n - 1:\n",
        "                return False\n",
        "        return True\n",
        "\n",
        "    # number of trials, directly proportional to time and accuracy.\n",
        "    num_trials = 10\n",
        "\n",
        "    # true run\n",
        "    for _ in range(num_trials):\n",
        "        if trial_composite(a):\n",
        "            return False\n",
        "\n",
        "    return True"
      ]
    },
    {
      "cell_type": "markdown",
      "source": [
        "## Supporting multiple witnesses in the Miller-Rabin primality test"
      ],
      "metadata": {
        "id": "BOHi5EJTNgqW"
      }
    },
    {
      "cell_type": "code",
      "source": [
        "'''\n",
        "Returns False if any one witness returns False and True if all witnesses return True.\n",
        "Based on the following facts about the Miller-Rabin primality test:\n",
        "  A return value of False means n in not prime (i.e. composite).\n",
        "  A return value of True means n is very likely to be a prime (depending on the number of rounds).\n",
        "'''\n",
        "\n",
        "def miller_rabin(num, witness_list):\n",
        "  result = []\n",
        "  \n",
        "  for i in range(len(witness_list)):\n",
        "    result.append(miller_rabin_base(num, witness_list[i]))\n",
        "  \n",
        "  if False in result:\n",
        "    return False\n",
        "  \n",
        "  return True"
      ],
      "metadata": {
        "id": "49wqbJBeNmRt"
      },
      "execution_count": 2,
      "outputs": []
    },
    {
      "cell_type": "markdown",
      "source": [
        "## Simple prime number test"
      ],
      "metadata": {
        "id": "WjhyT_bpp8_r"
      }
    },
    {
      "cell_type": "code",
      "source": [
        "'''\n",
        "Returns whether a number is prime (true) or not (false).\n",
        "Credit: https://en.wikipedia.org/wiki/Primality_test#Python\n",
        "'''\n",
        "\n",
        "def actual_prime(n):\n",
        "    if n <= 3:\n",
        "        return n > 1\n",
        "    if n % 2 == 0 or n % 3 == 0:\n",
        "        return False\n",
        "    i = 5\n",
        "    while i ** 2 <= n:\n",
        "        if n % i == 0 or n % (i + 2) == 0:\n",
        "            return False\n",
        "        i += 6\n",
        "    return True"
      ],
      "metadata": {
        "id": "WFk5p2JvqEQf"
      },
      "execution_count": 3,
      "outputs": []
    },
    {
      "cell_type": "markdown",
      "source": [
        "## Finding the worst numbers in the Miller-Rabin primality test (for `n` in a certain range, single witness)"
      ],
      "metadata": {
        "id": "ihrK6WyP1Wkt"
      }
    },
    {
      "cell_type": "code",
      "source": [
        "# imports\n",
        "from tqdm import tqdm\n",
        "\n",
        "# constants\n",
        "DEFENDANT_RANGE = 1000\n",
        "DEFENDANTS = [i for i in range(DEFENDANT_RANGE + 1) if i == 2 or i % 2 != 0]\n",
        "if DEFENDANT_RANGE % 2 == 0:\n",
        "  WITNESS_RANGE = DEFENDANT_RANGE - 1\n",
        "else:\n",
        "  WITNESS_RANGE = DEFENDANT_RANGE\n",
        "\n",
        "# variable\n",
        "results = {}\n",
        "\n",
        "# trial loop function\n",
        "def trial_loop(defendants, witness):\n",
        "  lie_count = 0\n",
        "\n",
        "  for defendant in defendants:\n",
        "      if miller_rabin_base(defendant, witness) != actual_prime(defendant):\n",
        "        lie_count += 1\n",
        "  \n",
        "  return lie_count\n",
        "\n",
        "# main loop\n",
        "for i in tqdm(range(WITNESS_RANGE)):\n",
        "  results[i] = trial_loop(DEFENDANTS, i)\n",
        "\n",
        "# finding top 25 worst witnesses\n",
        "for i in sorted(results.items(), key=lambda x: x[1], reverse=True)[:25]:\n",
        "  print(i)"
      ],
      "metadata": {
        "id": "h5PgkImvERxL",
        "colab": {
          "base_uri": "https://localhost:8080/"
        },
        "outputId": "e7865d9f-5876-4069-b251-fbfecaeeff69"
      },
      "execution_count": 61,
      "outputs": [
        {
          "output_type": "stream",
          "name": "stderr",
          "text": [
            "100%|██████████| 999/999 [00:08<00:00, 117.30it/s]"
          ]
        },
        {
          "output_type": "stream",
          "name": "stdout",
          "text": [
            "(1, 331)\n",
            "(0, 164)\n",
            "(676, 18)\n",
            "(901, 18)\n",
            "(374, 17)\n",
            "(944, 16)\n",
            "(766, 15)\n",
            "(824, 15)\n",
            "(900, 15)\n",
            "(946, 15)\n",
            "(989, 15)\n",
            "(293, 14)\n",
            "(307, 14)\n",
            "(524, 14)\n",
            "(557, 14)\n",
            "(584, 14)\n",
            "(638, 14)\n",
            "(734, 14)\n",
            "(526, 13)\n",
            "(562, 13)\n",
            "(566, 13)\n",
            "(568, 13)\n",
            "(776, 13)\n",
            "(818, 13)\n",
            "(874, 13)\n"
          ]
        },
        {
          "output_type": "stream",
          "name": "stderr",
          "text": [
            "\n"
          ]
        }
      ]
    },
    {
      "cell_type": "markdown",
      "source": [
        "## Finding the worst numbers in the Miller-Rabin primality test (for `n` in a certain range, 2 witnesses)"
      ],
      "metadata": {
        "id": "VDR_Z3UUkgwr"
      }
    },
    {
      "cell_type": "code",
      "source": [
        "# imports\n",
        "from tqdm import tqdm\n",
        "import itertools\n",
        "\n",
        "# constant\n",
        "DEFENDANT_RANGE = 100\n",
        "DEFENDANTS = [i for i in range(DEFENDANT_RANGE + 1) if i == 2 or i % 2 != 0]\n",
        "if DEFENDANT_RANGE % 2 == 0:\n",
        "  WITNESS_RANGE = DEFENDANT_RANGE - 1\n",
        "else:\n",
        "  WITNESS_RANGE = DEFENDANT_RANGE\n",
        "WITNESSES = list(itertools.product([i for i in range(WITNESS_RANGE)], [i for i in range(WITNESS_RANGE)]))\n",
        "\n",
        "# variables\n",
        "results = {}\n",
        "\n",
        "# trial loop function\n",
        "def trial_loop(defendants, witnesses):\n",
        "  lie_count = 0\n",
        "\n",
        "  for defendant in defendants:\n",
        "      if miller_rabin(defendant, [witnesses[0], witnesses[1]]) != actual_prime(defendant):\n",
        "        lie_count += 1\n",
        "  \n",
        "  return lie_count\n",
        "\n",
        "# main loop\n",
        "for i in tqdm(WITNESSES):\n",
        "  results[i] = trial_loop(DEFENDANTS, (i))\n",
        "\n",
        "# finding top 25 worst witnesses\n",
        "for i in sorted(results.items(), key=lambda x: x[1], reverse=True)[:25]:\n",
        "  print(i)"
      ],
      "metadata": {
        "id": "34lbTwUHksE6",
        "colab": {
          "base_uri": "https://localhost:8080/"
        },
        "outputId": "86532e26-879c-460b-8845-18f8fa14c50f"
      },
      "execution_count": 87,
      "outputs": [
        {
          "output_type": "stream",
          "name": "stderr",
          "text": [
            "100%|██████████| 9801/9801 [00:15<00:00, 621.27it/s]"
          ]
        },
        {
          "output_type": "stream",
          "name": "stdout",
          "text": [
            "((1, 1), 24)\n",
            "((0, 0), 21)\n",
            "((0, 1), 21)\n",
            "((0, 2), 21)\n",
            "((0, 3), 21)\n",
            "((0, 4), 21)\n",
            "((0, 5), 21)\n",
            "((0, 6), 21)\n",
            "((0, 7), 21)\n",
            "((0, 8), 21)\n",
            "((0, 9), 21)\n",
            "((0, 10), 21)\n",
            "((0, 11), 21)\n",
            "((0, 12), 21)\n",
            "((0, 13), 21)\n",
            "((0, 14), 21)\n",
            "((0, 15), 21)\n",
            "((0, 16), 21)\n",
            "((0, 17), 21)\n",
            "((0, 18), 21)\n",
            "((0, 19), 21)\n",
            "((0, 20), 21)\n",
            "((0, 21), 21)\n",
            "((0, 22), 21)\n",
            "((0, 23), 21)\n"
          ]
        },
        {
          "output_type": "stream",
          "name": "stderr",
          "text": [
            "\n"
          ]
        }
      ]
    },
    {
      "cell_type": "markdown",
      "source": [
        "## Finding the worst numbers in the Miller-Rabin primality test (for `n` in a certain range, 3 witnesses)"
      ],
      "metadata": {
        "id": "eokcQDoKfJQI"
      }
    },
    {
      "cell_type": "code",
      "source": [
        "# imports\n",
        "from tqdm import tqdm\n",
        "import itertools\n",
        "\n",
        "# constant\n",
        "DEFENDANT_RANGE = 50\n",
        "DEFENDANTS = [i for i in range(DEFENDANT_RANGE + 1) if i == 2 or i % 2 != 0]\n",
        "if DEFENDANT_RANGE % 2 == 0:\n",
        "  WITNESS_RANGE = DEFENDANT_RANGE - 1\n",
        "else:\n",
        "  WITNESS_RANGE = DEFENDANT_RANGE\n",
        "WITNESSES = list(itertools.product([i for i in range(WITNESS_RANGE)], [i for i in range(WITNESS_RANGE)], [i for i in range(WITNESS_RANGE)]))\n",
        "\n",
        "# variables\n",
        "results = {}\n",
        "\n",
        "# trial loop function\n",
        "def trial_loop(defendants, witnesses):\n",
        "  lie_count = 0\n",
        "\n",
        "  for defendant in defendants:\n",
        "      if miller_rabin(defendant, [witnesses[0], witnesses[1]]) != actual_prime(defendant):\n",
        "        lie_count += 1\n",
        "  \n",
        "  return lie_count\n",
        "\n",
        "# main loop\n",
        "for i in tqdm(WITNESSES):\n",
        "  results[i] = trial_loop(DEFENDANTS, (i))\n",
        "\n",
        "# finding top 25 worst witnesses\n",
        "for i in sorted(results.items(), key=lambda x: x[1], reverse=True)[:25]:\n",
        "  print(i)"
      ],
      "metadata": {
        "colab": {
          "base_uri": "https://localhost:8080/"
        },
        "id": "02rrYWx1fI4c",
        "outputId": "e8229639-b028-437c-8d80-17642ea2e955"
      },
      "execution_count": 85,
      "outputs": [
        {
          "output_type": "stream",
          "name": "stderr",
          "text": [
            "100%|██████████| 117649/117649 [01:29<00:00, 1320.72it/s]\n"
          ]
        },
        {
          "output_type": "stream",
          "name": "stdout",
          "text": [
            "((0, 0, 0), 11)\n",
            "((0, 0, 1), 11)\n",
            "((0, 0, 2), 11)\n",
            "((0, 0, 3), 11)\n",
            "((0, 0, 4), 11)\n",
            "((0, 0, 5), 11)\n",
            "((0, 0, 6), 11)\n",
            "((0, 0, 7), 11)\n",
            "((0, 0, 8), 11)\n",
            "((0, 0, 9), 11)\n",
            "((0, 0, 10), 11)\n",
            "((0, 0, 11), 11)\n",
            "((0, 0, 12), 11)\n",
            "((0, 0, 13), 11)\n",
            "((0, 0, 14), 11)\n",
            "((0, 0, 15), 11)\n",
            "((0, 0, 16), 11)\n",
            "((0, 0, 17), 11)\n",
            "((0, 0, 18), 11)\n",
            "((0, 0, 19), 11)\n",
            "((0, 0, 20), 11)\n",
            "((0, 0, 21), 11)\n",
            "((0, 0, 22), 11)\n",
            "((0, 0, 23), 11)\n",
            "((0, 0, 24), 11)\n"
          ]
        }
      ]
    },
    {
      "cell_type": "markdown",
      "source": [
        "## Finding the worst numbers in the Miller-Rabin primality test (for `n` in a certain range, 3 witnesses)"
      ],
      "metadata": {
        "id": "n5TyV-PJk0nM"
      }
    },
    {
      "cell_type": "code",
      "source": [
        "# imports\n",
        "from tqdm import tqdm\n",
        "import itertools\n",
        "\n",
        "# constant\n",
        "DEFENDANT_RANGE = 25\n",
        "DEFENDANTS = [i for i in range(DEFENDANT_RANGE + 1) if i == 2 or i % 2 != 0]\n",
        "if DEFENDANT_RANGE % 2 == 0:\n",
        "  WITNESS_RANGE = DEFENDANT_RANGE - 1\n",
        "else:\n",
        "  WITNESS_RANGE = DEFENDANT_RANGE\n",
        "WITNESSES = list(itertools.product([i for i in range(WITNESS_RANGE)], [i for i in range(WITNESS_RANGE)], [i for i in range(WITNESS_RANGE)], [i for i in range(WITNESS_RANGE)]))\n",
        "\n",
        "# variables\n",
        "results = {}\n",
        "\n",
        "# trial loop function\n",
        "def trial_loop(defendants, witnesses):\n",
        "  lie_count = 0\n",
        "\n",
        "  for defendant in defendants:\n",
        "      if miller_rabin(defendant, [witnesses[0], witnesses[1]]) != actual_prime(defendant):\n",
        "        lie_count += 1\n",
        "  \n",
        "  return lie_count\n",
        "\n",
        "# main loop\n",
        "for i in tqdm(WITNESSES):\n",
        "  results[i] = trial_loop(DEFENDANTS, (i))\n",
        "\n",
        "# finding top 25 worst witnesses\n",
        "for i in sorted(results.items(), key=lambda x: x[1], reverse=True)[:25]:\n",
        "  print(i)"
      ],
      "metadata": {
        "colab": {
          "base_uri": "https://localhost:8080/"
        },
        "id": "2x_QxISfk32_",
        "outputId": "25ae73b3-2088-4b3d-b51b-b0c9bd69fa2a"
      },
      "execution_count": 86,
      "outputs": [
        {
          "output_type": "stream",
          "name": "stderr",
          "text": [
            "100%|██████████| 390625/390625 [02:08<00:00, 3049.88it/s]\n"
          ]
        },
        {
          "output_type": "stream",
          "name": "stdout",
          "text": [
            "((0, 0, 0, 0), 5)\n",
            "((0, 0, 0, 1), 5)\n",
            "((0, 0, 0, 2), 5)\n",
            "((0, 0, 0, 3), 5)\n",
            "((0, 0, 0, 4), 5)\n",
            "((0, 0, 0, 5), 5)\n",
            "((0, 0, 0, 6), 5)\n",
            "((0, 0, 0, 7), 5)\n",
            "((0, 0, 0, 8), 5)\n",
            "((0, 0, 0, 9), 5)\n",
            "((0, 0, 0, 10), 5)\n",
            "((0, 0, 0, 11), 5)\n",
            "((0, 0, 0, 12), 5)\n",
            "((0, 0, 0, 13), 5)\n",
            "((0, 0, 0, 14), 5)\n",
            "((0, 0, 0, 15), 5)\n",
            "((0, 0, 0, 16), 5)\n",
            "((0, 0, 0, 17), 5)\n",
            "((0, 0, 0, 18), 5)\n",
            "((0, 0, 0, 19), 5)\n",
            "((0, 0, 0, 20), 5)\n",
            "((0, 0, 0, 21), 5)\n",
            "((0, 0, 0, 22), 5)\n",
            "((0, 0, 0, 23), 5)\n",
            "((0, 0, 0, 24), 5)\n"
          ]
        }
      ]
    }
  ]
}