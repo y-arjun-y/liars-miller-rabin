{
  "nbformat": 4,
  "nbformat_minor": 0,
  "metadata": {
    "colab": {
      "name": "liars_miller_rabin.ipynb",
      "provenance": [],
      "collapsed_sections": [],
      "toc_visible": true,
      "authorship_tag": "ABX9TyOLIM5/qUvhseefQSUK9UWx",
      "include_colab_link": true
    },
    "kernelspec": {
      "name": "python3",
      "display_name": "Python 3"
    },
    "language_info": {
      "name": "python"
    }
  },
  "cells": [
    {
      "cell_type": "markdown",
      "metadata": {
        "id": "view-in-github",
        "colab_type": "text"
      },
      "source": [
        "<a href=\"https://colab.research.google.com/github/y-arjun-y/liars-miller-rabin/blob/main/liars_miller_rabin.ipynb\" target=\"_parent\"><img src=\"https://colab.research.google.com/assets/colab-badge.svg\" alt=\"Open In Colab\"/></a>"
      ]
    },
    {
      "cell_type": "markdown",
      "source": [
        "# Liars in the Miller-Rabin Primality Test by Arjun Yadav\n",
        "## All code is available on [GitHub](https://github.com/y-arjun-y/liars-miller-rabin)."
      ],
      "metadata": {
        "id": "PAN0FyZRIRaI"
      }
    },
    {
      "cell_type": "markdown",
      "source": [
        "## Implementation of the Miller-Rabin primality test in Python\n",
        "### Credit goes to [Rosetta Code](https://rosettacode.org/wiki/Miller%E2%80%93Rabin_primality_test#Python)."
      ],
      "metadata": {
        "id": "F5Va_xI6IglN"
      }
    },
    {
      "cell_type": "code",
      "execution_count": 1,
      "metadata": {
        "id": "teiA7Vg6o4vl"
      },
      "outputs": [],
      "source": [
        "'''\n",
        "Implementation of the Miller-Rabin primality test in Python. \n",
        "Function by https://rosettacode.org/wiki/Miller%E2%80%93Rabin_primality_test#Python.\n",
        "Variables and formula is based on https://en.wikipedia.org/wiki/Miller%E2%80%93Rabin_primality_test.\n",
        "A return value of False means n in not prime.\n",
        "A return value of True means n is very likely to be a prime.\n",
        "'''\n",
        "\n",
        "def miller_rabin(n, a):\n",
        "    # checking if it is an integer\n",
        "    if n != int(n):\n",
        "        return False\n",
        "\n",
        "    n = int(n)\n",
        "\n",
        "    # base cases\n",
        "    if n == 0 or n == 1 or n == 4 or n == 6 or n == 8 or n == 9:\n",
        "        return False\n",
        "\n",
        "    if n == 2 or n == 3 or n == 5 or n == 7:\n",
        "        return True\n",
        "\n",
        "    if n % 2 == 0:\n",
        "        return False\n",
        "\n",
        "    # assigning variables\n",
        "    s = 0\n",
        "    d = n - 1\n",
        "\n",
        "    while d % 2 == 0:\n",
        "        d >>= 1\n",
        "        s += 1\n",
        "\n",
        "    # trial run\n",
        "    def trial_composite(a):\n",
        "        if pow(a, d, n) == 1:\n",
        "            return False\n",
        "\n",
        "        for i in range(s):\n",
        "            if pow(a, 2**i * d, n) == n - 1:\n",
        "                return False\n",
        "        return True\n",
        "\n",
        "    # number of trials, directly proportional to time and accuracy.\n",
        "    num_trials = 10\n",
        "\n",
        "    # run\n",
        "    for _ in range(num_trials):\n",
        "        if trial_composite(a):\n",
        "            return False\n",
        "\n",
        "    return True"
      ]
    },
    {
      "cell_type": "markdown",
      "source": [
        "## Length of probable primes function (using the Miller-Rabin primality test)"
      ],
      "metadata": {
        "id": "SmQHE6_hJAh7"
      }
    },
    {
      "cell_type": "code",
      "source": [
        "'''\n",
        "Returns the length of prime numbers of a given range.\n",
        "'''\n",
        "\n",
        "def len_probable_prime(int, a):\n",
        "    results = []\n",
        "\n",
        "    # main loop\n",
        "    for i in range(int + 1):\n",
        "        if miller_rabin(i, a) == True:\n",
        "            results.append(miller_rabin(i, a))\n",
        "\n",
        "    return len(results)"
      ],
      "metadata": {
        "id": "tshVSj6ho8e6"
      },
      "execution_count": 2,
      "outputs": []
    },
    {
      "cell_type": "markdown",
      "source": [
        "## Actual number of primes between two numbers"
      ],
      "metadata": {
        "id": "TGNHlKGxdSUc"
      }
    },
    {
      "cell_type": "code",
      "source": [
        "'''\n",
        "Returns the actual number of primes between two numbers.\n",
        "Used in the final worst witness cell/file. Doesn't use the Miller-Rabin primality test.\n",
        "Credit: https://www.programiz.com/python-programming/examples/prime-number-intervals\n",
        "'''\n",
        "\n",
        "def actual_len_primes(lower, upper):\n",
        "  for num in range(lower, upper + 1):\n",
        "    if num > 1:\n",
        "        for i in range(2, num):\n",
        "            if (num % i) == 0:\n",
        "                break\n",
        "        else:\n",
        "            return num"
      ],
      "metadata": {
        "id": "ngNzeV8Jdb70"
      },
      "execution_count": 9,
      "outputs": []
    },
    {
      "cell_type": "markdown",
      "source": [
        "## Finding worst witness in a certain range"
      ],
      "metadata": {
        "id": "-DRyX633JDgJ"
      }
    },
    {
      "cell_type": "code",
      "source": [
        "# imports\n",
        "from tqdm import tqdm\n",
        "\n",
        "# constants\n",
        "DEFENDANT = 91 # number we're using to test our function\n",
        "WITNESS_RANGE = 91 # range till where we want to find the worst witness \n",
        "ACTUAL_LEN_PRIMES = actual_len_primes(0, WITNESS_RANGE)\n",
        "\n",
        "# variables\n",
        "results = {} # results before finding difference from the actual length of primes\n",
        "\n",
        "# subtraction loop\n",
        "for i in tqdm(range(WITNESS_RANGE)):\n",
        "  results[i] = ACTUAL_LEN_PRIMES - len_probable_prime(DEFENDANT, i)\n",
        "\n",
        "# finding worst key\n",
        "print(list(results.keys())[list(results.values()).index(sorted(set(results.values()))[1])])"
      ],
      "metadata": {
        "colab": {
          "base_uri": "https://localhost:8080/"
        },
        "id": "npHBx9ozo-2-",
        "outputId": "1524a749-3955-49c9-b0fb-a80294d77535"
      },
      "execution_count": 12,
      "outputs": [
        {
          "output_type": "stream",
          "name": "stderr",
          "text": [
            "100%|██████████| 91/91 [00:00<00:00, 799.96it/s]"
          ]
        },
        {
          "output_type": "stream",
          "name": "stdout",
          "text": [
            "18\n"
          ]
        },
        {
          "output_type": "stream",
          "name": "stderr",
          "text": [
            "\n"
          ]
        }
      ]
    },
    {
      "cell_type": "markdown",
      "source": [
        "# Other functions created during research\n"
      ],
      "metadata": {
        "id": "DrGaJb1WJH8c"
      }
    },
    {
      "cell_type": "markdown",
      "source": [
        "## Length of composites function"
      ],
      "metadata": {
        "id": "QZ5rJVnMMhm3"
      }
    },
    {
      "cell_type": "code",
      "source": [
        "'''\n",
        "Returns the length of composite numbers of a given range.\n",
        "'''\n",
        "\n",
        "def len_composite(int, a):\n",
        "    results = []\n",
        "\n",
        "    for i in range(int + 1):\n",
        "        if miller_rabin(i, a) == False:\n",
        "            results.append(miller_rabin(i, a))\n",
        "\n",
        "    return len(results)"
      ],
      "metadata": {
        "id": "ato_WgnVMqLR"
      },
      "execution_count": 17,
      "outputs": []
    },
    {
      "cell_type": "markdown",
      "source": [
        "## Composites function"
      ],
      "metadata": {
        "id": "4lTQnazNMmwP"
      }
    },
    {
      "cell_type": "code",
      "source": [
        "'''\n",
        "Returns the composite numbers of a given range.\n",
        "'''\n",
        "\n",
        "def composite(int, a):\n",
        "    results = []\n",
        "\n",
        "    for i in range(int + 1):\n",
        "        if miller_rabin(i, a) == False:\n",
        "            results.append(i)\n",
        "\n",
        "    return results"
      ],
      "metadata": {
        "id": "ztEp3NilfIAI"
      },
      "execution_count": 15,
      "outputs": []
    },
    {
      "cell_type": "markdown",
      "source": [
        "## Primes function"
      ],
      "metadata": {
        "id": "8NBjO8KrMoqY"
      }
    },
    {
      "cell_type": "code",
      "source": [
        "'''\n",
        "Returns the probable prime numbers of a given range.\n",
        "'''\n",
        "\n",
        "def probable_primes(int, a):\n",
        "    results = []\n",
        "\n",
        "    for i in range(int + 1):\n",
        "        if miller_rabin(i, a) == True:\n",
        "            results.append(i)\n",
        "\n",
        "    return results"
      ],
      "metadata": {
        "id": "-bymKJpzfCop"
      },
      "execution_count": 14,
      "outputs": []
    },
    {
      "cell_type": "markdown",
      "source": [
        "## Finding excellent, okay and false witnesses"
      ],
      "metadata": {
        "id": "1ExsK93kJTDG"
      }
    },
    {
      "cell_type": "code",
      "source": [
        "# imports\n",
        "from tqdm import tqdm\n",
        "\n",
        "# constants\n",
        "DEFENDANT = 1000\n",
        "WITNESS_RANGE = 100\n",
        "ACTUAL_LEN_PRIMES = 168\n",
        "\n",
        "# seconday variables \n",
        "excellent_witnesses = []  # = ACTUAL_LEN_PRIMES\n",
        "okay_witnesses = []  # ±5 ACTUAL_LEN_PRIMES\n",
        "false_witnessses = []  # != ACTUAL_LEN_PRIMES\n",
        "\n",
        "# secondary loop\n",
        "for i in tqdm(range(WITNESS_RANGE + 1)):\n",
        "    if len_probable_prime(DEFENDANT, i) == ACTUAL_LEN_PRIMES:\n",
        "        excellent_witnesses.append(i)\n",
        "    elif len_probable_prime(DEFENDANT, i) - ACTUAL_LEN_PRIMES <= 5:\n",
        "        okay_witnesses.append(i)\n",
        "    elif len_probable_prime(DEFENDANT, i) != ACTUAL_LEN_PRIMES:\n",
        "        false_witnessses.append(i)"
      ],
      "metadata": {
        "colab": {
          "base_uri": "https://localhost:8080/"
        },
        "id": "dQ2vWiOYJqWw",
        "outputId": "51e81823-8be0-4e80-bc04-43cf48c33718"
      },
      "execution_count": null,
      "outputs": [
        {
          "output_type": "stream",
          "name": "stderr",
          "text": [
            "100%|██████████| 101/101 [00:02<00:00, 36.43it/s]\n"
          ]
        }
      ]
    }
  ]
}