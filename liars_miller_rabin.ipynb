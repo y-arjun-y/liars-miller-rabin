{
  "nbformat": 4,
  "nbformat_minor": 0,
  "metadata": {
    "colab": {
      "name": "liars_miller_rabin.ipynb",
      "provenance": [],
      "collapsed_sections": [],
      "authorship_tag": "ABX9TyPRwQrzazePUkOKnEeSEYKo",
      "include_colab_link": true
    },
    "kernelspec": {
      "name": "python3",
      "display_name": "Python 3"
    },
    "language_info": {
      "name": "python"
    }
  },
  "cells": [
    {
      "cell_type": "markdown",
      "metadata": {
        "id": "view-in-github",
        "colab_type": "text"
      },
      "source": [
        "<a href=\"https://colab.research.google.com/github/y-arjun-y/liars-miller-rabin/blob/main/liars_miller_rabin.ipynb\" target=\"_parent\"><img src=\"https://colab.research.google.com/assets/colab-badge.svg\" alt=\"Open In Colab\"/></a>"
      ]
    },
    {
      "cell_type": "markdown",
      "source": [
        "# Liars in the Miller-Rabin primality test by Arjun Yadav\n",
        "## All of the code and results are available on [GitHub](https://github.com/y-arjun-y/liars-miller-rabin). Inspired by [Numberphile](https://www.youtube.com/watch?v=_MscGSN5J6o)."
      ],
      "metadata": {
        "id": "PAN0FyZRIRaI"
      }
    },
    {
      "cell_type": "markdown",
      "source": [
        "## Implementation of the Miller-Rabin primality test in Python"
      ],
      "metadata": {
        "id": "F5Va_xI6IglN"
      }
    },
    {
      "cell_type": "code",
      "execution_count": 2,
      "metadata": {
        "id": "teiA7Vg6o4vl"
      },
      "outputs": [],
      "source": [
        "'''\n",
        "Function by https://rosettacode.org/wiki/Miller%E2%80%93Rabin_primality_test#Python with slight changes by me to support a custom witness (a). \n",
        "Function and its formula is based on https://en.wikipedia.org/wiki/Miller%E2%80%93Rabin_primality_test.\n",
        "A return value of false means n in not prime (i.e. composite).\n",
        "A return value of true means n is very likely to be a prime (likelihood depending on the number of rounds).\n",
        "'''\n",
        "\n",
        "def miller_rabin_base(n, a):\n",
        "  # checking if it is an integer\n",
        "    if n != int(n):\n",
        "        return False\n",
        "\n",
        "    n = int(n)\n",
        "\n",
        "    # base cases\n",
        "    if n == 0 or n == 1 or n == 4 or n == 6 or n == 8 or n == 9:\n",
        "        return False\n",
        "\n",
        "    if n == 2 or n == 3 or n == 5 or n == 7:\n",
        "        return True\n",
        "\n",
        "    if n % 2 == 0:\n",
        "        return False\n",
        "\n",
        "    s = 0\n",
        "    d = n - 1\n",
        "\n",
        "    while d % 2 == 0:\n",
        "        d >>= 1\n",
        "        s += 1\n",
        "    \n",
        "    assert(2**s * d == n - 1)\n",
        "\n",
        "    # trial run\n",
        "    def trial_composite(a):\n",
        "        if pow(a, d, n) == 1:\n",
        "            return False\n",
        "\n",
        "        for i in range(s):\n",
        "            if pow(a, 2**i * d, n) == n - 1:\n",
        "                return False\n",
        "        return True\n",
        "\n",
        "    # number of trials rounds\n",
        "    num_trials = 10\n",
        "\n",
        "    for _ in range(num_trials):\n",
        "        if trial_composite(a):\n",
        "            return False\n",
        "\n",
        "    return True"
      ]
    },
    {
      "cell_type": "markdown",
      "source": [
        "## Supporting multiple witnesses in the Miller-Rabin primality test"
      ],
      "metadata": {
        "id": "BOHi5EJTNgqW"
      }
    },
    {
      "cell_type": "code",
      "source": [
        "'''\n",
        "Returns false if any one of the witness returns false and returns true if all witnesses return true.\n",
        "'''\n",
        "\n",
        "def miller_rabin(num, witness_list):\n",
        "  result = []\n",
        "  \n",
        "  for i in range(len(witness_list)):\n",
        "    result.append(miller_rabin_base(num, witness_list[i]))\n",
        "  \n",
        "  if False in result:\n",
        "    return False\n",
        "  \n",
        "  return True"
      ],
      "metadata": {
        "id": "49wqbJBeNmRt"
      },
      "execution_count": 3,
      "outputs": []
    },
    {
      "cell_type": "markdown",
      "source": [
        "## Simple prime number test"
      ],
      "metadata": {
        "id": "WjhyT_bpp8_r"
      }
    },
    {
      "cell_type": "code",
      "source": [
        "'''\n",
        "Returns whether a number is prime (true) or not (false).\n",
        "Credit: https://en.wikipedia.org/wiki/Primality_test#Python\n",
        "'''\n",
        "\n",
        "def actual_prime(n):\n",
        "    if n <= 3:\n",
        "        return n > 1\n",
        "    if n % 2 == 0 or n % 3 == 0:\n",
        "        return False\n",
        "    i = 5\n",
        "    while i ** 2 <= n:\n",
        "        if n % i == 0 or n % (i + 2) == 0:\n",
        "            return False\n",
        "        i += 6\n",
        "    return True"
      ],
      "metadata": {
        "id": "WFk5p2JvqEQf"
      },
      "execution_count": 4,
      "outputs": []
    },
    {
      "cell_type": "markdown",
      "source": [
        "## Finding the worst witness in the Miller-Rabin primality test (for `n` in a certain range, 1 witness)"
      ],
      "metadata": {
        "id": "ihrK6WyP1Wkt"
      }
    },
    {
      "cell_type": "code",
      "source": [
        "from tqdm import tqdm\n",
        "\n",
        "DEFENDANT_RANGE = 100\n",
        "DEFENDANTS = [i for i in range(DEFENDANT_RANGE + 1) if i == 2 or i % 2 != 0]\n",
        "if DEFENDANT_RANGE % 2 == 0:\n",
        "  WITNESS_RANGE = DEFENDANT_RANGE - 1\n",
        "else:\n",
        "  WITNESS_RANGE = DEFENDANT_RANGE\n",
        "\n",
        "results = {}\n",
        "\n",
        "print([i for i in range(WITNESS_RANGE)])\n",
        "\n",
        "# trial loop function\n",
        "def trial_loop(defendants, witness):\n",
        "  lie_count = 0\n",
        "\n",
        "  for defendant in defendants:\n",
        "      if miller_rabin_base(defendant, witness) != actual_prime(defendant):\n",
        "        lie_count += 1\n",
        "  \n",
        "  return lie_count\n",
        "\n",
        "for i in tqdm(range(WITNESS_RANGE)):\n",
        "  results[i] = trial_loop(DEFENDANTS, i)\n",
        "\n",
        "# finding top 100 liars\n",
        "for i in sorted(results.items(), key=lambda x: x[1], reverse=True)[:100]:\n",
        "  print(i)"
      ],
      "metadata": {
        "id": "h5PgkImvERxL",
        "colab": {
          "base_uri": "https://localhost:8080/"
        },
        "outputId": "623c42a7-5c5e-45d1-de51-c6170a0a8b53"
      },
      "execution_count": 29,
      "outputs": [
        {
          "output_type": "stream",
          "name": "stdout",
          "text": [
            "[0, 1, 2, 3, 4, 5, 6, 7, 8, 9, 10, 11, 12, 13, 14, 15, 16, 17, 18, 19, 20, 21, 22, 23, 24, 25, 26, 27, 28, 29, 30, 31, 32, 33, 34, 35, 36, 37, 38, 39, 40, 41, 42, 43, 44, 45, 46, 47, 48, 49, 50, 51, 52, 53, 54, 55, 56, 57, 58, 59, 60, 61, 62, 63, 64, 65, 66, 67, 68, 69, 70, 71, 72, 73, 74, 75, 76, 77, 78, 79, 80, 81, 82, 83, 84, 85, 86, 87, 88, 89, 90, 91, 92, 93, 94, 95, 96, 97, 98]\n"
          ]
        },
        {
          "output_type": "stream",
          "name": "stderr",
          "text": [
            "100%|██████████| 99/99 [00:00<00:00, 723.60it/s]"
          ]
        },
        {
          "output_type": "stream",
          "name": "stdout",
          "text": [
            "(1, 24)\n",
            "(0, 21)\n",
            "(74, 5)\n",
            "(76, 5)\n",
            "(82, 5)\n",
            "(38, 4)\n",
            "(62, 4)\n",
            "(68, 4)\n",
            "(79, 4)\n",
            "(18, 3)\n",
            "(22, 3)\n",
            "(26, 3)\n",
            "(29, 3)\n",
            "(31, 3)\n",
            "(34, 3)\n",
            "(43, 3)\n",
            "(44, 3)\n",
            "(46, 3)\n",
            "(47, 3)\n",
            "(53, 3)\n",
            "(57, 3)\n",
            "(64, 3)\n",
            "(67, 3)\n",
            "(69, 3)\n",
            "(80, 3)\n",
            "(83, 3)\n",
            "(86, 3)\n",
            "(89, 3)\n",
            "(91, 3)\n",
            "(92, 3)\n",
            "(94, 3)\n",
            "(98, 3)\n",
            "(13, 2)\n",
            "(16, 2)\n",
            "(17, 2)\n",
            "(19, 2)\n",
            "(32, 2)\n",
            "(41, 2)\n",
            "(50, 2)\n",
            "(51, 2)\n",
            "(52, 2)\n",
            "(55, 2)\n",
            "(56, 2)\n",
            "(58, 2)\n",
            "(59, 2)\n",
            "(61, 2)\n",
            "(65, 2)\n",
            "(66, 2)\n",
            "(71, 2)\n",
            "(73, 2)\n",
            "(77, 2)\n",
            "(78, 2)\n",
            "(85, 2)\n",
            "(88, 2)\n",
            "(93, 2)\n",
            "(97, 2)\n",
            "(7, 1)\n",
            "(8, 1)\n",
            "(9, 1)\n",
            "(10, 1)\n",
            "(11, 1)\n",
            "(12, 1)\n",
            "(14, 1)\n",
            "(20, 1)\n",
            "(23, 1)\n",
            "(24, 1)\n",
            "(28, 1)\n",
            "(30, 1)\n",
            "(33, 1)\n",
            "(36, 1)\n",
            "(37, 1)\n",
            "(39, 1)\n",
            "(40, 1)\n",
            "(48, 1)\n",
            "(49, 1)\n",
            "(54, 1)\n",
            "(70, 1)\n",
            "(72, 1)\n",
            "(75, 1)\n",
            "(81, 1)\n",
            "(84, 1)\n",
            "(87, 1)\n",
            "(90, 1)\n",
            "(95, 1)\n",
            "(96, 1)\n",
            "(2, 0)\n",
            "(3, 0)\n",
            "(4, 0)\n",
            "(5, 0)\n",
            "(6, 0)\n",
            "(15, 0)\n",
            "(21, 0)\n",
            "(25, 0)\n",
            "(27, 0)\n",
            "(35, 0)\n",
            "(42, 0)\n",
            "(45, 0)\n",
            "(60, 0)\n",
            "(63, 0)\n"
          ]
        },
        {
          "output_type": "stream",
          "name": "stderr",
          "text": [
            "\n"
          ]
        }
      ]
    },
    {
      "cell_type": "markdown",
      "source": [
        "## Finding the worst witnesses in the Miller-Rabin primality test (for `n` in a certain range, 2 witnesses)"
      ],
      "metadata": {
        "id": "VDR_Z3UUkgwr"
      }
    },
    {
      "cell_type": "code",
      "source": [
        "from tqdm import tqdm\n",
        "import itertools\n",
        "\n",
        "DEFENDANT_RANGE = 100\n",
        "DEFENDANTS = [i for i in range(DEFENDANT_RANGE + 1) if i == 2 or i % 2 != 0]\n",
        "if DEFENDANT_RANGE % 2 == 0:\n",
        "  WITNESS_RANGE = DEFENDANT_RANGE - 1\n",
        "else:\n",
        "  WITNESS_RANGE = DEFENDANT_RANGE\n",
        "WITNESSES = list(itertools.product([i for i in range(WITNESS_RANGE)], [i for i in range(WITNESS_RANGE)]))\n",
        "\n",
        "results = {}\n",
        "\n",
        "# trial loop function\n",
        "def trial_loop(defendants, witnesses):\n",
        "  lie_count = 0\n",
        "\n",
        "  for defendant in defendants:\n",
        "      if miller_rabin(defendant, [witnesses[0], witnesses[1]]) != actual_prime(defendant):\n",
        "        lie_count += 1\n",
        "  \n",
        "  return lie_count\n",
        "\n",
        "for i in tqdm(WITNESSES):\n",
        "  results[i] = trial_loop(DEFENDANTS, (i))\n",
        "\n",
        "# finding top 100 liars\n",
        "for i in sorted(results.items(), key=lambda x: x[1], reverse=True)[:100]:\n",
        "  print(i)"
      ],
      "metadata": {
        "id": "34lbTwUHksE6",
        "colab": {
          "base_uri": "https://localhost:8080/"
        },
        "outputId": "0a5ccdc6-776a-4dfd-dbc3-b37c07864a4e"
      },
      "execution_count": 30,
      "outputs": [
        {
          "output_type": "stream",
          "name": "stderr",
          "text": [
            "100%|██████████| 9801/9801 [00:16<00:00, 594.96it/s]"
          ]
        },
        {
          "output_type": "stream",
          "name": "stdout",
          "text": [
            "((1, 1), 24)\n",
            "((0, 0), 21)\n",
            "((0, 1), 21)\n",
            "((0, 2), 21)\n",
            "((0, 3), 21)\n",
            "((0, 4), 21)\n",
            "((0, 5), 21)\n",
            "((0, 6), 21)\n",
            "((0, 7), 21)\n",
            "((0, 8), 21)\n",
            "((0, 9), 21)\n",
            "((0, 10), 21)\n",
            "((0, 11), 21)\n",
            "((0, 12), 21)\n",
            "((0, 13), 21)\n",
            "((0, 14), 21)\n",
            "((0, 15), 21)\n",
            "((0, 16), 21)\n",
            "((0, 17), 21)\n",
            "((0, 18), 21)\n",
            "((0, 19), 21)\n",
            "((0, 20), 21)\n",
            "((0, 21), 21)\n",
            "((0, 22), 21)\n",
            "((0, 23), 21)\n",
            "((0, 24), 21)\n",
            "((0, 25), 21)\n",
            "((0, 26), 21)\n",
            "((0, 27), 21)\n",
            "((0, 28), 21)\n",
            "((0, 29), 21)\n",
            "((0, 30), 21)\n",
            "((0, 31), 21)\n",
            "((0, 32), 21)\n",
            "((0, 33), 21)\n",
            "((0, 34), 21)\n",
            "((0, 35), 21)\n",
            "((0, 36), 21)\n",
            "((0, 37), 21)\n",
            "((0, 38), 21)\n",
            "((0, 39), 21)\n",
            "((0, 40), 21)\n",
            "((0, 41), 21)\n",
            "((0, 42), 21)\n",
            "((0, 43), 21)\n",
            "((0, 44), 21)\n",
            "((0, 45), 21)\n",
            "((0, 46), 21)\n",
            "((0, 47), 21)\n",
            "((0, 48), 21)\n",
            "((0, 49), 21)\n",
            "((0, 50), 21)\n",
            "((0, 51), 21)\n",
            "((0, 52), 21)\n",
            "((0, 53), 21)\n",
            "((0, 54), 21)\n",
            "((0, 55), 21)\n",
            "((0, 56), 21)\n",
            "((0, 57), 21)\n",
            "((0, 58), 21)\n",
            "((0, 59), 21)\n",
            "((0, 60), 21)\n",
            "((0, 61), 21)\n",
            "((0, 62), 21)\n",
            "((0, 63), 21)\n",
            "((0, 64), 21)\n",
            "((0, 65), 21)\n",
            "((0, 66), 21)\n",
            "((0, 67), 21)\n",
            "((0, 68), 21)\n",
            "((0, 69), 21)\n",
            "((0, 70), 21)\n",
            "((0, 71), 21)\n",
            "((0, 72), 21)\n",
            "((0, 73), 21)\n",
            "((0, 74), 21)\n",
            "((0, 75), 21)\n",
            "((0, 76), 21)\n",
            "((0, 77), 21)\n",
            "((0, 78), 21)\n",
            "((0, 79), 21)\n",
            "((0, 80), 21)\n",
            "((0, 81), 21)\n",
            "((0, 82), 21)\n",
            "((0, 83), 21)\n",
            "((0, 84), 21)\n",
            "((0, 85), 21)\n",
            "((0, 86), 21)\n",
            "((0, 87), 21)\n",
            "((0, 88), 21)\n",
            "((0, 89), 21)\n",
            "((0, 90), 21)\n",
            "((0, 91), 21)\n",
            "((0, 92), 21)\n",
            "((0, 93), 21)\n",
            "((0, 94), 21)\n",
            "((0, 95), 21)\n",
            "((0, 96), 21)\n",
            "((0, 97), 21)\n",
            "((0, 98), 21)\n"
          ]
        },
        {
          "output_type": "stream",
          "name": "stderr",
          "text": [
            "\n"
          ]
        }
      ]
    },
    {
      "cell_type": "markdown",
      "source": [
        "## Finding the worst witnesses in the Miller-Rabin primality test (for `n` in a certain range, 3 witnesses)"
      ],
      "metadata": {
        "id": "eokcQDoKfJQI"
      }
    },
    {
      "cell_type": "code",
      "source": [
        "from tqdm import tqdm\n",
        "import itertools\n",
        "\n",
        "DEFENDANT_RANGE = 25\n",
        "DEFENDANTS = [i for i in range(DEFENDANT_RANGE + 1) if i == 2 or i % 2 != 0]\n",
        "if DEFENDANT_RANGE % 2 == 0:\n",
        "  WITNESS_RANGE = DEFENDANT_RANGE - 1\n",
        "else:\n",
        "  WITNESS_RANGE = DEFENDANT_RANGE\n",
        "WITNESSES = list(itertools.product([i for i in range(WITNESS_RANGE)], [i for i in range(WITNESS_RANGE)], [i for i in range(WITNESS_RANGE)]))\n",
        "\n",
        "results = {}\n",
        "\n",
        "# trial loop function\n",
        "def trial_loop(defendants, witnesses):\n",
        "  lie_count = 0\n",
        "\n",
        "  for defendant in defendants:\n",
        "      if miller_rabin(defendant, [witnesses[0], witnesses[1]]) != actual_prime(defendant):\n",
        "        lie_count += 1\n",
        "  \n",
        "  return lie_count\n",
        "\n",
        "for i in tqdm(WITNESSES):\n",
        "  results[i] = trial_loop(DEFENDANTS, (i))\n",
        "\n",
        "# finding top 100 liars\n",
        "for i in sorted(results.items(), key=lambda x: x[1], reverse=True)[:100]:\n",
        "  print(i)"
      ],
      "metadata": {
        "colab": {
          "base_uri": "https://localhost:8080/"
        },
        "id": "02rrYWx1fI4c",
        "outputId": "b09788fc-f5df-4069-b17c-ea08bf28fcd3"
      },
      "execution_count": 19,
      "outputs": [
        {
          "output_type": "stream",
          "name": "stderr",
          "text": [
            "100%|██████████| 15625/15625 [00:05<00:00, 2960.28it/s]"
          ]
        },
        {
          "output_type": "stream",
          "name": "stdout",
          "text": [
            "((0, 0, 0), 5)\n",
            "((0, 0, 1), 5)\n",
            "((0, 0, 2), 5)\n",
            "((0, 0, 3), 5)\n",
            "((0, 0, 4), 5)\n",
            "((0, 0, 5), 5)\n",
            "((0, 0, 6), 5)\n",
            "((0, 0, 7), 5)\n",
            "((0, 0, 8), 5)\n",
            "((0, 0, 9), 5)\n",
            "((0, 0, 10), 5)\n",
            "((0, 0, 11), 5)\n",
            "((0, 0, 12), 5)\n",
            "((0, 0, 13), 5)\n",
            "((0, 0, 14), 5)\n",
            "((0, 0, 15), 5)\n",
            "((0, 0, 16), 5)\n",
            "((0, 0, 17), 5)\n",
            "((0, 0, 18), 5)\n",
            "((0, 0, 19), 5)\n",
            "((0, 0, 20), 5)\n",
            "((0, 0, 21), 5)\n",
            "((0, 0, 22), 5)\n",
            "((0, 0, 23), 5)\n",
            "((0, 0, 24), 5)\n",
            "((0, 1, 0), 5)\n",
            "((0, 1, 1), 5)\n",
            "((0, 1, 2), 5)\n",
            "((0, 1, 3), 5)\n",
            "((0, 1, 4), 5)\n",
            "((0, 1, 5), 5)\n",
            "((0, 1, 6), 5)\n",
            "((0, 1, 7), 5)\n",
            "((0, 1, 8), 5)\n",
            "((0, 1, 9), 5)\n",
            "((0, 1, 10), 5)\n",
            "((0, 1, 11), 5)\n",
            "((0, 1, 12), 5)\n",
            "((0, 1, 13), 5)\n",
            "((0, 1, 14), 5)\n",
            "((0, 1, 15), 5)\n",
            "((0, 1, 16), 5)\n",
            "((0, 1, 17), 5)\n",
            "((0, 1, 18), 5)\n",
            "((0, 1, 19), 5)\n",
            "((0, 1, 20), 5)\n",
            "((0, 1, 21), 5)\n",
            "((0, 1, 22), 5)\n",
            "((0, 1, 23), 5)\n",
            "((0, 1, 24), 5)\n",
            "((0, 2, 0), 5)\n",
            "((0, 2, 1), 5)\n",
            "((0, 2, 2), 5)\n",
            "((0, 2, 3), 5)\n",
            "((0, 2, 4), 5)\n",
            "((0, 2, 5), 5)\n",
            "((0, 2, 6), 5)\n",
            "((0, 2, 7), 5)\n",
            "((0, 2, 8), 5)\n",
            "((0, 2, 9), 5)\n",
            "((0, 2, 10), 5)\n",
            "((0, 2, 11), 5)\n",
            "((0, 2, 12), 5)\n",
            "((0, 2, 13), 5)\n",
            "((0, 2, 14), 5)\n",
            "((0, 2, 15), 5)\n",
            "((0, 2, 16), 5)\n",
            "((0, 2, 17), 5)\n",
            "((0, 2, 18), 5)\n",
            "((0, 2, 19), 5)\n",
            "((0, 2, 20), 5)\n",
            "((0, 2, 21), 5)\n",
            "((0, 2, 22), 5)\n",
            "((0, 2, 23), 5)\n",
            "((0, 2, 24), 5)\n",
            "((0, 3, 0), 5)\n",
            "((0, 3, 1), 5)\n",
            "((0, 3, 2), 5)\n",
            "((0, 3, 3), 5)\n",
            "((0, 3, 4), 5)\n",
            "((0, 3, 5), 5)\n",
            "((0, 3, 6), 5)\n",
            "((0, 3, 7), 5)\n",
            "((0, 3, 8), 5)\n",
            "((0, 3, 9), 5)\n",
            "((0, 3, 10), 5)\n",
            "((0, 3, 11), 5)\n",
            "((0, 3, 12), 5)\n",
            "((0, 3, 13), 5)\n",
            "((0, 3, 14), 5)\n",
            "((0, 3, 15), 5)\n",
            "((0, 3, 16), 5)\n",
            "((0, 3, 17), 5)\n",
            "((0, 3, 18), 5)\n",
            "((0, 3, 19), 5)\n",
            "((0, 3, 20), 5)\n",
            "((0, 3, 21), 5)\n",
            "((0, 3, 22), 5)\n",
            "((0, 3, 23), 5)\n",
            "((0, 3, 24), 5)\n"
          ]
        },
        {
          "output_type": "stream",
          "name": "stderr",
          "text": [
            "\n"
          ]
        }
      ]
    },
    {
      "cell_type": "markdown",
      "source": [
        "## Finding the worst witnesses in the Miller-Rabin primality test (for `n` in a certain range, 4 witnesses)"
      ],
      "metadata": {
        "id": "n5TyV-PJk0nM"
      }
    },
    {
      "cell_type": "code",
      "source": [
        "from tqdm import tqdm\n",
        "import itertools\n",
        "\n",
        "DEFENDANT_RANGE = 12\n",
        "DEFENDANTS = [i for i in range(DEFENDANT_RANGE + 1) if i == 2 or i % 2 != 0]\n",
        "if DEFENDANT_RANGE % 2 == 0:\n",
        "  WITNESS_RANGE = DEFENDANT_RANGE - 1\n",
        "else:\n",
        "  WITNESS_RANGE = DEFENDANT_RANGE\n",
        "WITNESSES = list(itertools.product([i for i in range(WITNESS_RANGE)], [i for i in range(WITNESS_RANGE)], [i for i in range(WITNESS_RANGE)], [i for i in range(WITNESS_RANGE)]))\n",
        "\n",
        "results = {}\n",
        "\n",
        "# trial loop function\n",
        "def trial_loop(defendants, witnesses):\n",
        "  lie_count = 0\n",
        "\n",
        "  for defendant in defendants:\n",
        "      if miller_rabin(defendant, [witnesses[0], witnesses[1]]) != actual_prime(defendant):\n",
        "        lie_count += 1\n",
        "  \n",
        "  return lie_count\n",
        "\n",
        "for i in tqdm(WITNESSES):\n",
        "  results[i] = trial_loop(DEFENDANTS, (i))\n",
        "\n",
        "# finding top 100 liars\n",
        "for i in sorted(results.items(), key=lambda x: x[1], reverse=True)[:100]:\n",
        "  print(i)"
      ],
      "metadata": {
        "colab": {
          "base_uri": "https://localhost:8080/"
        },
        "id": "2x_QxISfk32_",
        "outputId": "d8cfc929-f0a7-46c7-d2b1-b8365b752142"
      },
      "execution_count": 32,
      "outputs": [
        {
          "output_type": "stream",
          "name": "stderr",
          "text": [
            "100%|██████████| 14641/14641 [00:00<00:00, 15976.39it/s]"
          ]
        },
        {
          "output_type": "stream",
          "name": "stdout",
          "text": [
            "((0, 0, 0, 0), 1)\n",
            "((0, 0, 0, 1), 1)\n",
            "((0, 0, 0, 2), 1)\n",
            "((0, 0, 0, 3), 1)\n",
            "((0, 0, 0, 4), 1)\n",
            "((0, 0, 0, 5), 1)\n",
            "((0, 0, 0, 6), 1)\n",
            "((0, 0, 0, 7), 1)\n",
            "((0, 0, 0, 8), 1)\n",
            "((0, 0, 0, 9), 1)\n",
            "((0, 0, 0, 10), 1)\n",
            "((0, 0, 1, 0), 1)\n",
            "((0, 0, 1, 1), 1)\n",
            "((0, 0, 1, 2), 1)\n",
            "((0, 0, 1, 3), 1)\n",
            "((0, 0, 1, 4), 1)\n",
            "((0, 0, 1, 5), 1)\n",
            "((0, 0, 1, 6), 1)\n",
            "((0, 0, 1, 7), 1)\n",
            "((0, 0, 1, 8), 1)\n",
            "((0, 0, 1, 9), 1)\n",
            "((0, 0, 1, 10), 1)\n",
            "((0, 0, 2, 0), 1)\n",
            "((0, 0, 2, 1), 1)\n",
            "((0, 0, 2, 2), 1)\n",
            "((0, 0, 2, 3), 1)\n",
            "((0, 0, 2, 4), 1)\n",
            "((0, 0, 2, 5), 1)\n",
            "((0, 0, 2, 6), 1)\n",
            "((0, 0, 2, 7), 1)\n",
            "((0, 0, 2, 8), 1)\n",
            "((0, 0, 2, 9), 1)\n",
            "((0, 0, 2, 10), 1)\n",
            "((0, 0, 3, 0), 1)\n",
            "((0, 0, 3, 1), 1)\n",
            "((0, 0, 3, 2), 1)\n",
            "((0, 0, 3, 3), 1)\n",
            "((0, 0, 3, 4), 1)\n",
            "((0, 0, 3, 5), 1)\n",
            "((0, 0, 3, 6), 1)\n",
            "((0, 0, 3, 7), 1)\n",
            "((0, 0, 3, 8), 1)\n",
            "((0, 0, 3, 9), 1)\n",
            "((0, 0, 3, 10), 1)\n",
            "((0, 0, 4, 0), 1)\n",
            "((0, 0, 4, 1), 1)\n",
            "((0, 0, 4, 2), 1)\n",
            "((0, 0, 4, 3), 1)\n",
            "((0, 0, 4, 4), 1)\n",
            "((0, 0, 4, 5), 1)\n",
            "((0, 0, 4, 6), 1)\n",
            "((0, 0, 4, 7), 1)\n",
            "((0, 0, 4, 8), 1)\n",
            "((0, 0, 4, 9), 1)\n",
            "((0, 0, 4, 10), 1)\n",
            "((0, 0, 5, 0), 1)\n",
            "((0, 0, 5, 1), 1)\n",
            "((0, 0, 5, 2), 1)\n",
            "((0, 0, 5, 3), 1)\n",
            "((0, 0, 5, 4), 1)\n",
            "((0, 0, 5, 5), 1)\n",
            "((0, 0, 5, 6), 1)\n",
            "((0, 0, 5, 7), 1)\n",
            "((0, 0, 5, 8), 1)\n",
            "((0, 0, 5, 9), 1)\n",
            "((0, 0, 5, 10), 1)\n",
            "((0, 0, 6, 0), 1)\n",
            "((0, 0, 6, 1), 1)\n",
            "((0, 0, 6, 2), 1)\n",
            "((0, 0, 6, 3), 1)\n",
            "((0, 0, 6, 4), 1)\n",
            "((0, 0, 6, 5), 1)\n",
            "((0, 0, 6, 6), 1)\n",
            "((0, 0, 6, 7), 1)\n",
            "((0, 0, 6, 8), 1)\n",
            "((0, 0, 6, 9), 1)\n",
            "((0, 0, 6, 10), 1)\n",
            "((0, 0, 7, 0), 1)\n",
            "((0, 0, 7, 1), 1)\n",
            "((0, 0, 7, 2), 1)\n",
            "((0, 0, 7, 3), 1)\n",
            "((0, 0, 7, 4), 1)\n",
            "((0, 0, 7, 5), 1)\n",
            "((0, 0, 7, 6), 1)\n",
            "((0, 0, 7, 7), 1)\n",
            "((0, 0, 7, 8), 1)\n",
            "((0, 0, 7, 9), 1)\n",
            "((0, 0, 7, 10), 1)\n",
            "((0, 0, 8, 0), 1)\n",
            "((0, 0, 8, 1), 1)\n",
            "((0, 0, 8, 2), 1)\n",
            "((0, 0, 8, 3), 1)\n",
            "((0, 0, 8, 4), 1)\n",
            "((0, 0, 8, 5), 1)\n",
            "((0, 0, 8, 6), 1)\n",
            "((0, 0, 8, 7), 1)\n",
            "((0, 0, 8, 8), 1)\n",
            "((0, 0, 8, 9), 1)\n",
            "((0, 0, 8, 10), 1)\n",
            "((0, 0, 9, 0), 1)\n"
          ]
        },
        {
          "output_type": "stream",
          "name": "stderr",
          "text": [
            "\n"
          ]
        }
      ]
    }
  ]
}