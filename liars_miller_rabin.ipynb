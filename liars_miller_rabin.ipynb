{
  "nbformat": 4,
  "nbformat_minor": 0,
  "metadata": {
    "colab": {
      "name": "liars_miller_rabin.ipynb",
      "provenance": [],
      "collapsed_sections": [],
      "authorship_tag": "ABX9TyORN6dP2ZfoWwspsYjbKDJO",
      "include_colab_link": true
    },
    "kernelspec": {
      "name": "python3",
      "display_name": "Python 3"
    },
    "language_info": {
      "name": "python"
    }
  },
  "cells": [
    {
      "cell_type": "markdown",
      "metadata": {
        "id": "view-in-github",
        "colab_type": "text"
      },
      "source": [
        "<a href=\"https://colab.research.google.com/github/y-arjun-y/liars-miller-rabin/blob/main/liars_miller_rabin.ipynb\" target=\"_parent\"><img src=\"https://colab.research.google.com/assets/colab-badge.svg\" alt=\"Open In Colab\"/></a>"
      ]
    },
    {
      "cell_type": "code",
      "execution_count": null,
      "metadata": {
        "id": "teiA7Vg6o4vl"
      },
      "outputs": [],
      "source": [
        "'''\n",
        "Implementation of the Miller-Rabin primality test in Python3. \n",
        "Function by https://rosettacode.org/wiki/Miller%E2%80%93Rabin_primality_test#Python:_Proved_correct_up_to_large_N.\n",
        "Variables and formula is based on https://en.wikipedia.org/wiki/Miller%E2%80%93Rabin_primality_test.\n",
        "A return value of False means n in not prime.\n",
        "A return value of True means n is very likely to be a prime.\n",
        "'''\n",
        "\n",
        "def miller_rabin(n, a):\n",
        "    # checking if it is an integer\n",
        "    if n != int(n):\n",
        "        return False\n",
        "\n",
        "    n = int(n)\n",
        "\n",
        "    # base cases\n",
        "    if n == 0 or n == 1 or n == 4 or n == 6 or n == 8 or n == 9:\n",
        "        return False\n",
        "\n",
        "    if n == 2 or n == 3 or n == 5 or n == 7:\n",
        "        return True\n",
        "\n",
        "    if n % 2 == 0:\n",
        "        return False\n",
        "\n",
        "    # assigning variables\n",
        "    s = 0\n",
        "    d = n - 1\n",
        "\n",
        "    while d % 2 == 0:\n",
        "        d >>= 1\n",
        "        s += 1\n",
        "\n",
        "    # trial run\n",
        "    def trial_composite(a):\n",
        "        if pow(a, d, n) == 1:\n",
        "            return False\n",
        "\n",
        "        for i in range(s):\n",
        "            if pow(a, 2**i * d, n) == n - 1:\n",
        "                return False\n",
        "        return True\n",
        "\n",
        "    # number of trials, directly proportional to time and accuracy.\n",
        "    num_trials = 10\n",
        "\n",
        "    # run\n",
        "    for _ in range(num_trials):\n",
        "        if trial_composite(a):\n",
        "            return False\n",
        "\n",
        "    return True"
      ]
    },
    {
      "cell_type": "code",
      "source": [
        "'''\n",
        "Returns the length of prime numbers of a given range.\n",
        "'''\n",
        "\n",
        "def len_probable_prime(int, a):\n",
        "    results = []\n",
        "\n",
        "    # main loop\n",
        "    for i in range(int + 1):\n",
        "        if miller_rabin(i, a) == True:\n",
        "            results.append(miller_rabin(i, a))\n",
        "\n",
        "    return len(results)"
      ],
      "metadata": {
        "id": "tshVSj6ho8e6"
      },
      "execution_count": null,
      "outputs": []
    },
    {
      "cell_type": "code",
      "source": [
        "# imports\n",
        "from tqdm import tqdm\n",
        "\n",
        "# constants\n",
        "DEFENDANT = 1000\n",
        "WITNESS_RANGE = 100\n",
        "ACTUAL_LEN_PRIMES = 168\n",
        "\n",
        "# witness variables\n",
        "excellent_witnesses = []  # = ACTUAL_LEN_PRIMES\n",
        "okay_witnesses = []  # ±5 ACTUAL_LEN_PRIMES\n",
        "false_witnessses = []  # != ACTUAL_LEN_PRIMES\n",
        "worst_witness = []  # biggest difference\n",
        "witnesses = [i for i in range(WITNESS_RANGE + 1)]\n",
        "\n",
        "# main loop\n",
        "for i in tqdm(range(WITNESS_RANGE + 1)):\n",
        "    if len_probable_prime(DEFENDANT, i) == ACTUAL_LEN_PRIMES:\n",
        "        excellent_witnesses.append(i)\n",
        "    elif len_probable_prime(DEFENDANT, i) - ACTUAL_LEN_PRIMES <= 5:\n",
        "        okay_witnesses.append(i)\n",
        "\n",
        "    if len_probable_prime(DEFENDANT, i) != ACTUAL_LEN_PRIMES:\n",
        "        false_witnessses.append(i)"
      ],
      "metadata": {
        "colab": {
          "base_uri": "https://localhost:8080/"
        },
        "id": "npHBx9ozo-2-",
        "outputId": "af11da0e-b550-42be-d1a3-bee94459f54a"
      },
      "execution_count": null,
      "outputs": [
        {
          "output_type": "stream",
          "name": "stderr",
          "text": [
            "100%|██████████| 101/101 [00:03<00:00, 25.50it/s]"
          ]
        },
        {
          "output_type": "stream",
          "name": "stdout",
          "text": [
            "[0, 1, 2, 3, 4, 5, 6, 7, 8, 9, 10, 11, 12, 13, 14, 15, 16, 17, 18, 19, 20, 21, 22, 23, 24, 25, 26, 27, 28, 29, 30, 31, 32, 33, 34, 35, 36, 37, 38, 39, 40, 41, 42, 43, 44, 45, 46, 47, 48, 49, 50, 51, 52, 53, 54, 55, 56, 57, 58, 59, 60, 61, 62, 63, 64, 65, 66, 67, 68, 69, 70, 71, 72, 73, 74, 75, 76, 77, 78, 79, 80, 81, 82, 83, 84, 85, 86, 87, 88, 89, 90, 91, 92, 93, 94, 95, 96, 97, 98, 99, 100]\n"
          ]
        },
        {
          "output_type": "stream",
          "name": "stderr",
          "text": [
            "\n"
          ]
        }
      ]
    }
  ]
}