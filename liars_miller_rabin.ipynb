{
  "nbformat": 4,
  "nbformat_minor": 0,
  "metadata": {
    "colab": {
      "name": "liars_miller_rabin.ipynb",
      "provenance": [],
      "collapsed_sections": [],
      "toc_visible": true,
      "authorship_tag": "ABX9TyPmf8+QXDBAbqJ3jPT1mTO4",
      "include_colab_link": true
    },
    "kernelspec": {
      "name": "python3",
      "display_name": "Python 3"
    },
    "language_info": {
      "name": "python"
    }
  },
  "cells": [
    {
      "cell_type": "markdown",
      "metadata": {
        "id": "view-in-github",
        "colab_type": "text"
      },
      "source": [
        "<a href=\"https://colab.research.google.com/github/y-arjun-y/liars-miller-rabin/blob/main/liars_miller_rabin.ipynb\" target=\"_parent\"><img src=\"https://colab.research.google.com/assets/colab-badge.svg\" alt=\"Open In Colab\"/></a>"
      ]
    },
    {
      "cell_type": "markdown",
      "source": [
        "# Liars in the Miller-Rabin Primality Test by Arjun Yadav\n",
        "## All code is available on [GitHub](https://github.com/y-arjun-y/liars-miller-rabin)."
      ],
      "metadata": {
        "id": "PAN0FyZRIRaI"
      }
    },
    {
      "cell_type": "markdown",
      "source": [
        "## Implementation of the Miller-Rabin primality test in Python"
      ],
      "metadata": {
        "id": "F5Va_xI6IglN"
      }
    },
    {
      "cell_type": "code",
      "execution_count": 66,
      "metadata": {
        "id": "teiA7Vg6o4vl",
        "colab": {
          "base_uri": "https://localhost:8080/"
        },
        "outputId": "045bd499-961c-40bf-d0ec-deebb6084bb7"
      },
      "outputs": [
        {
          "output_type": "execute_result",
          "data": {
            "text/plain": [
              "True"
            ]
          },
          "metadata": {},
          "execution_count": 66
        }
      ],
      "source": [
        "'''\n",
        "Function by https://rosettacode.org/wiki/Miller%E2%80%93Rabin_primality_test#Python with slight changes to support a custom witness and explanation of the code. \n",
        "Function and its formula is based on https://en.wikipedia.org/wiki/Miller%E2%80%93Rabin_primality_test.\n",
        "A return value of False means n in not prime (i.e. composite).\n",
        "A return value of True means n is very likely to be a prime (depending on the number of rounds).\n",
        "'''\n",
        "\n",
        "# base function\n",
        "def miller_rabin_base(n, a):\n",
        "    # checking if it is an integer\n",
        "    if n != int(n):\n",
        "        return False\n",
        "\n",
        "    n = int(n)\n",
        "\n",
        "    # base cases\n",
        "    if n == 0 or n == 1 or n == 4 or n == 6 or n == 8 or n == 9:\n",
        "        return False\n",
        "\n",
        "    if n == 2 or n == 3 or n == 5 or n == 7:\n",
        "        return True\n",
        "\n",
        "    if n % 2 == 0:\n",
        "        return False\n",
        "\n",
        "    # assigning variables\n",
        "    s = 0\n",
        "    d = n - 1\n",
        "\n",
        "    while d % 2 == 0:\n",
        "        d >>= 1\n",
        "        s += 1\n",
        "    \n",
        "    assert(2**s * d == n - 1)\n",
        "\n",
        "    # trial run\n",
        "    def trial_composite(a):\n",
        "        if pow(a, d, n) == 1:\n",
        "            return False\n",
        "\n",
        "        for i in range(s):\n",
        "            if pow(a, 2**i * d, n) == n - 1:\n",
        "                return False\n",
        "        return True\n",
        "\n",
        "    # number of trials, directly proportional to time and accuracy.\n",
        "    num_trials = 10\n",
        "\n",
        "    # true run\n",
        "    for _ in range(num_trials):\n",
        "        if trial_composite(a):\n",
        "            return False\n",
        "\n",
        "    return True"
      ]
    },
    {
      "cell_type": "markdown",
      "source": [
        "## Supporting multiple witnesses in the Miller-Rabin primality test"
      ],
      "metadata": {
        "id": "BOHi5EJTNgqW"
      }
    },
    {
      "cell_type": "code",
      "source": [
        "'''\n",
        "Returns False if any one witness returns False and True if all witnesses return True.\n",
        "Based on the following facts about the Miller-Rabin primality test:\n",
        "  A return value of False means n in not prime (i.e. composite).\n",
        "  A return value of True means n is very likely to be a prime (depending on the number of rounds).\n",
        "'''\n",
        "\n",
        "def miller_rabin(n, witness_array):\n",
        "  res = []\n",
        "  \n",
        "  for i in range(len(witness_array)):\n",
        "    res.append(miller_rabin_base(n, witness_array[i]))\n",
        "  \n",
        "  if False in res:\n",
        "    return False\n",
        "  \n",
        "  return True"
      ],
      "metadata": {
        "id": "49wqbJBeNmRt"
      },
      "execution_count": 88,
      "outputs": []
    },
    {
      "cell_type": "markdown",
      "source": [
        "## Length of probable primes function (using the Miller-Rabin primality test)"
      ],
      "metadata": {
        "id": "SmQHE6_hJAh7"
      }
    },
    {
      "cell_type": "code",
      "source": [
        "'''\n",
        "Returns the length of prime numbers of a given range.\n",
        "'''\n",
        "\n",
        "def len_probable_prime(int, a):\n",
        "    results = []\n",
        "\n",
        "    # main loop\n",
        "    for i in range(int + 1):\n",
        "        if miller_rabin(i, a) == True:\n",
        "            results.append(miller_rabin(i, a))\n",
        "\n",
        "    return len(results)"
      ],
      "metadata": {
        "id": "tshVSj6ho8e6"
      },
      "execution_count": 2,
      "outputs": []
    },
    {
      "cell_type": "markdown",
      "source": [
        "## Actual number of primes between two numbers\n",
        "\n"
      ],
      "metadata": {
        "id": "TGNHlKGxdSUc"
      }
    },
    {
      "cell_type": "code",
      "source": [
        "'''\n",
        "Returns the actual number of primes between two numbers.\n",
        "Used in the final worst witness cell/file. Doesn't use the Miller-Rabin primality test.\n",
        "Credit: https://www.programiz.com/python-programming/examples/prime-number-intervals\n",
        "'''\n",
        "\n",
        "def actual_len_primes(lower, upper):\n",
        "  for num in range(lower, upper + 1):\n",
        "    if num > 1:\n",
        "        for i in range(2, num):\n",
        "            if (num % i) == 0:\n",
        "                break\n",
        "        else:\n",
        "            return num"
      ],
      "metadata": {
        "id": "ngNzeV8Jdb70"
      },
      "execution_count": 3,
      "outputs": []
    },
    {
      "cell_type": "markdown",
      "source": [
        "## Non-probabilistic primality test"
      ],
      "metadata": {
        "id": "WjhyT_bpp8_r"
      }
    },
    {
      "cell_type": "code",
      "source": [
        "'''\n",
        "Returns whether a number is prime (true) or not (false).\n",
        "Credit: https://djangocentral.com/python-program-to-check-whether-the-number-is-prime-or-not/\n",
        "'''\n",
        "\n",
        "def actual_prime(n):\n",
        "  if n > 1:\n",
        "    for i in range(2, int(n/2) + 1):\n",
        "      if (n % i == 0):\n",
        "        return True\n",
        "      else:\n",
        "        return False\n",
        "  else:\n",
        "    return False"
      ],
      "metadata": {
        "id": "WFk5p2JvqEQf"
      },
      "execution_count": 4,
      "outputs": []
    },
    {
      "cell_type": "markdown",
      "source": [
        "## Finding worst witness in a certain range by finding difference with actual number of primes"
      ],
      "metadata": {
        "id": "-DRyX633JDgJ"
      }
    },
    {
      "cell_type": "code",
      "source": [
        "# imports\n",
        "from tqdm import tqdm\n",
        "\n",
        "# constants\n",
        "DEFENDANT = 30 # number we're using to test our function\n",
        "WITNESS_RANGE = 30 # range till where we want to find the worst witness \n",
        "ACTUAL_LEN_PRIMES = actual_len_primes(0, WITNESS_RANGE)\n",
        "\n",
        "# variables\n",
        "results = {} # dictionary containing witness and their difference\n",
        "\n",
        "# subtraction loop\n",
        "for i in tqdm(range(WITNESS_RANGE)):\n",
        "  results[i] = ACTUAL_LEN_PRIMES - len_probable_prime(DEFENDANT, i)\n",
        "\n",
        "# finding the second worst key (worst witness within a range appears to always be 1)\n",
        "print(list(results.keys())[list(results.values()).index(sorted(set(results.values()))[1])])"
      ],
      "metadata": {
        "colab": {
          "base_uri": "https://localhost:8080/"
        },
        "id": "npHBx9ozo-2-",
        "outputId": "243a94ad-f716-480b-fc74-d1381055ec1c"
      },
      "execution_count": 17,
      "outputs": [
        {
          "output_type": "stream",
          "name": "stderr",
          "text": [
            "100%|██████████| 30/30 [00:00<00:00, 2315.84it/s]"
          ]
        },
        {
          "output_type": "stream",
          "name": "stdout",
          "text": [
            "7\n"
          ]
        },
        {
          "output_type": "stream",
          "name": "stderr",
          "text": [
            "\n"
          ]
        }
      ]
    },
    {
      "cell_type": "markdown",
      "source": [
        "## Finding worst witness for a single number by number of lies"
      ],
      "metadata": {
        "id": "WGquQIVxESPn"
      }
    },
    {
      "cell_type": "code",
      "source": [
        ""
      ],
      "metadata": {
        "id": "h5PgkImvERxL"
      },
      "execution_count": null,
      "outputs": []
    },
    {
      "cell_type": "markdown",
      "source": [
        "# Other functions created during research\n"
      ],
      "metadata": {
        "id": "DrGaJb1WJH8c"
      }
    },
    {
      "cell_type": "markdown",
      "source": [
        "## Length of composites function"
      ],
      "metadata": {
        "id": "QZ5rJVnMMhm3"
      }
    },
    {
      "cell_type": "code",
      "source": [
        "'''\n",
        "Returns the length of composite numbers of a given range.\n",
        "'''\n",
        "\n",
        "def len_composite(int, a):\n",
        "    results = []\n",
        "\n",
        "    for i in range(int + 1):\n",
        "        if miller_rabin(i, a) == False:\n",
        "            results.append(miller_rabin(i, a))\n",
        "\n",
        "    return len(results)"
      ],
      "metadata": {
        "id": "ato_WgnVMqLR"
      },
      "execution_count": null,
      "outputs": []
    },
    {
      "cell_type": "markdown",
      "source": [
        "## Composites function"
      ],
      "metadata": {
        "id": "4lTQnazNMmwP"
      }
    },
    {
      "cell_type": "code",
      "source": [
        "'''\n",
        "Returns the composite numbers of a given range.\n",
        "'''\n",
        "\n",
        "def composite(int, a):\n",
        "    results = []\n",
        "\n",
        "    for i in range(int + 1):\n",
        "        if miller_rabin(i, a) == False:\n",
        "            results.append(i)\n",
        "\n",
        "    return results"
      ],
      "metadata": {
        "id": "ztEp3NilfIAI"
      },
      "execution_count": null,
      "outputs": []
    },
    {
      "cell_type": "markdown",
      "source": [
        "## Primes function"
      ],
      "metadata": {
        "id": "8NBjO8KrMoqY"
      }
    },
    {
      "cell_type": "code",
      "source": [
        "'''\n",
        "Returns the probable prime numbers of a given range.\n",
        "'''\n",
        "\n",
        "def probable_primes(int, a):\n",
        "    results = []\n",
        "\n",
        "    for i in range(int + 1):\n",
        "        if miller_rabin(i, a) == True:\n",
        "            results.append(i)\n",
        "\n",
        "    return results"
      ],
      "metadata": {
        "id": "-bymKJpzfCop"
      },
      "execution_count": null,
      "outputs": []
    },
    {
      "cell_type": "markdown",
      "source": [
        "## Finding excellent, okay and false witnesses"
      ],
      "metadata": {
        "id": "1ExsK93kJTDG"
      }
    },
    {
      "cell_type": "code",
      "source": [
        "# imports\n",
        "from tqdm import tqdm\n",
        "\n",
        "# constants\n",
        "DEFENDANT = 100\n",
        "WITNESS_RANGE = 100\n",
        "ACTUAL_LEN_PRIMES = actual_len_primes(0, WITNESS_RANGE)\n",
        "\n",
        "# seconday variables \n",
        "excellent_witnesses = []  # = ACTUAL_LEN_PRIMES\n",
        "okay_witnesses = []  # ±5 ACTUAL_LEN_PRIMES\n",
        "false_witnessses = []  # != ACTUAL_LEN_PRIMES\n",
        "\n",
        "# secondary loop\n",
        "for i in tqdm(range(WITNESS_RANGE)):\n",
        "    if len_probable_prime(DEFENDANT, i) == ACTUAL_LEN_PRIMES:\n",
        "        excellent_witnesses.append(i)\n",
        "    elif len_probable_prime(DEFENDANT, i) - ACTUAL_LEN_PRIMES <= 5:\n",
        "        okay_witnesses.append(i)\n",
        "    elif len_probable_prime(DEFENDANT, i) != ACTUAL_LEN_PRIMES:\n",
        "        false_witnessses.append(i)\n",
        "\n",
        "print(excellent_witnesses)"
      ],
      "metadata": {
        "colab": {
          "base_uri": "https://localhost:8080/"
        },
        "id": "dQ2vWiOYJqWw",
        "outputId": "db0c4515-dd89-4c27-dbf4-88a93fe522c9"
      },
      "execution_count": null,
      "outputs": [
        {
          "output_type": "stream",
          "name": "stderr",
          "text": [
            "100%|██████████| 100/100 [00:00<00:00, 241.92it/s]"
          ]
        },
        {
          "output_type": "stream",
          "name": "stdout",
          "text": [
            "[]\n"
          ]
        },
        {
          "output_type": "stream",
          "name": "stderr",
          "text": [
            "\n"
          ]
        }
      ]
    },
    {
      "cell_type": "markdown",
      "source": [
        "## Finding worst witness by number of lies (similar to difference but doesn't appear to work)"
      ],
      "metadata": {
        "id": "DKu_c_rKmcRu"
      }
    },
    {
      "cell_type": "code",
      "source": [
        "# constants\n",
        "DEFENDANT_RANGE = 10 # range of defendants we want to have heard\n",
        "DEFENDANTS = [i for i in range(DEFENDANT_RANGE + 1)]\n",
        "WITNESS_RANGE = 50 # range of witnesses we want to call\n",
        "\n",
        "# variables\n",
        "count = 0\n",
        "index = DEFENDANT_RANGE - 1\n",
        "results = {} # dictionary containing witness and number of lies\n",
        "\n",
        "# liar loop\n",
        "while index != -1:\n",
        "  for i in range(WITNESS_RANGE):\n",
        "    if miller_rabin(DEFENDANTS[index], i) != actual_prime(DEFENDANTS[index]):\n",
        "      count += 1\n",
        "      results[i] = count\n",
        "  index -= 1\n",
        "\n",
        "print(results)\n",
        "\n",
        "# print(list(results.keys())[list(results.values()).index(sorted(set(results.values()))[0])])"
      ],
      "metadata": {
        "colab": {
          "base_uri": "https://localhost:8080/"
        },
        "id": "_FVoAX0brUsH",
        "outputId": "07f0b9af-55ff-4949-c777-9546e12dd47b"
      },
      "execution_count": 31,
      "outputs": [
        {
          "output_type": "stream",
          "name": "stdout",
          "text": [
            "{0: 301, 1: 302, 2: 303, 3: 304, 4: 305, 5: 306, 6: 307, 7: 308, 8: 309, 9: 310, 10: 311, 11: 312, 12: 313, 13: 314, 14: 315, 15: 316, 16: 317, 17: 318, 18: 319, 19: 320, 20: 321, 21: 322, 22: 323, 23: 324, 24: 325, 25: 326, 26: 327, 27: 328, 28: 329, 29: 330, 30: 331, 31: 332, 32: 333, 33: 334, 34: 335, 35: 336, 36: 337, 37: 338, 38: 339, 39: 340, 40: 341, 41: 342, 42: 343, 43: 344, 44: 345, 45: 346, 46: 347, 47: 348, 48: 349, 49: 350}\n"
          ]
        }
      ]
    }
  ]
}